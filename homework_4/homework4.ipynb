{
 "cells": [
  {
   "cell_type": "markdown",
   "metadata": {},
   "source": [
    "# Homework 4"
   ]
  },
  {
   "cell_type": "markdown",
   "metadata": {},
   "source": [
    "### Setup"
   ]
  },
  {
   "cell_type": "code",
   "execution_count": 19,
   "metadata": {},
   "outputs": [],
   "source": [
    "import warnings\n",
    "import pandas as pd\n",
    "from scipy.io.arff import loadarff\n",
    "from sklearn.preprocessing import MinMaxScaler\n",
    "\n",
    "def warn(*args, **kwargs): pass\n",
    "warnings.warn = warn\n",
    "\n",
    "data = loadarff('column_diagnosis.arff')\n",
    "df = pd.DataFrame(data[0])\n",
    "df['class'] = df['class'].str.decode('utf-8')\n",
    "\n",
    "X = MinMaxScaler().fit_transform(df.drop('class', axis=1))\n",
    "y = df['class']"
   ]
  },
  {
   "cell_type": "markdown",
   "metadata": {},
   "source": [
    "### 1."
   ]
  },
  {
   "cell_type": "code",
   "execution_count": 20,
   "metadata": {},
   "outputs": [
    {
     "name": "stdout",
     "output_type": "stream",
     "text": [
      "k=2 : Silhouette=0.36044124340441114, purity=0.632258064516129\n",
      "k=3 : Silhouette=0.29579055730002257, purity=0.667741935483871\n",
      "k=4 : Silhouette=0.27442402122340176, purity=0.6612903225806451\n",
      "k=5 : Silhouette=0.23823928397844843, purity=0.6774193548387096\n"
     ]
    }
   ],
   "source": [
    "import numpy as np\n",
    "from sklearn.cluster import KMeans\n",
    "from sklearn.metrics import silhouette_score\n",
    "from sklearn.metrics.cluster import contingency_matrix\n",
    "\n",
    "\n",
    "def purity_score(y_true, y_pred):\n",
    "    confusion_matrix = contingency_matrix(y_true, y_pred)\n",
    "    return np.sum(np.amax(confusion_matrix, axis=0)) / np.sum(confusion_matrix) \n",
    "\n",
    "for k in range(2,6):\n",
    "    kmeans = KMeans(n_clusters=k, random_state=0).fit(X)\n",
    "    y_pred = kmeans.labels_\n",
    "    print(f\"k={k} : Silhouette={silhouette_score(X, y_pred)}, purity={purity_score(y, y_pred)}\")"
   ]
  },
  {
   "cell_type": "markdown",
   "metadata": {},
   "source": [
    "### 2."
   ]
  },
  {
   "cell_type": "code",
   "execution_count": 21,
   "metadata": {},
   "outputs": [],
   "source": [
    "from sklearn.decomposition import PCA\n",
    "\n",
    "pca = PCA().fit(X)"
   ]
  },
  {
   "cell_type": "markdown",
   "metadata": {},
   "source": [
    "#### i."
   ]
  },
  {
   "cell_type": "code",
   "execution_count": 22,
   "metadata": {},
   "outputs": [
    {
     "name": "stdout",
     "output_type": "stream",
     "text": [
      "Variability explained by the top two principal components: 77.137397434354\n"
     ]
    }
   ],
   "source": [
    "explained_variability = np.sum(pca.explained_variance_ratio_[:2])*100\n",
    "print(f\"Variability explained by the top two principal components: {explained_variability}\")"
   ]
  },
  {
   "cell_type": "markdown",
   "metadata": {},
   "source": [
    "#### ii."
   ]
  },
  {
   "cell_type": "code",
   "execution_count": 23,
   "metadata": {},
   "outputs": [
    {
     "name": "stdout",
     "output_type": "stream",
     "text": [
      "Input variables by relevance (component 1):\n",
      "\n",
      "pelvic_incidence\n",
      "lumbar_lordosis_angle\n",
      "pelvic_tilt\n",
      "sacral_slope\n",
      "degree_spondylolisthesis\n",
      "pelvic_radius\n",
      "\n",
      "\n",
      "Input variables by relevance (component 2):\n",
      "\n",
      "pelvic_tilt\n",
      "pelvic_radius\n",
      "sacral_slope\n",
      "pelvic_incidence\n",
      "lumbar_lordosis_angle\n",
      "degree_spondylolisthesis\n"
     ]
    }
   ],
   "source": [
    "comp1 = pca.components_[0]\n",
    "comp2 = pca.components_[1]\n",
    "\n",
    "columns = df.columns[:-1]\n",
    "impt_features_comp1 = sorted([(columns[i], abs(comp1[i])) for i in range(len(columns))],key=lambda x : x[1], reverse=True)\n",
    "impt_features_comp2 = sorted([(columns[i], abs(comp2[i])) for i in range(len(columns))],key=lambda x : x[1], reverse=True)\n",
    "\n",
    "print(\"Input variables by relevance (component 1):\\n\")\n",
    "for feature in impt_features_comp1:\n",
    "    print(feature[0])\n",
    "\n",
    "print(\"\\n\")\n",
    "\n",
    "print(\"Input variables by relevance (component 2):\\n\")\n",
    "for feature in impt_features_comp2:\n",
    "    print(feature[0])"
   ]
  }
 ],
 "metadata": {
  "kernelspec": {
   "display_name": "Python 3",
   "language": "python",
   "name": "python3"
  },
  "language_info": {
   "codemirror_mode": {
    "name": "ipython",
    "version": 3
   },
   "file_extension": ".py",
   "mimetype": "text/x-python",
   "name": "python",
   "nbconvert_exporter": "python",
   "pygments_lexer": "ipython3",
   "version": "3.11.5"
  },
  "orig_nbformat": 4
 },
 "nbformat": 4,
 "nbformat_minor": 2
}
