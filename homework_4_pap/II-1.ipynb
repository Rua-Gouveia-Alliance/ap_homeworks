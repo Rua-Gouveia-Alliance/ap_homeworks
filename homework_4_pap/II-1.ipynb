{
 "cells": [
  {
   "cell_type": "code",
   "execution_count": 1,
   "metadata": {},
   "outputs": [
    {
     "name": "stdout",
     "output_type": "stream",
     "text": [
      "     pelvic_incidence  pelvic_tilt  lumbar_lordosis_angle  sacral_slope  \\\n",
      "0           63.027817    22.552586              39.609117     40.475232   \n",
      "1           39.056951    10.060991              25.015378     28.995960   \n",
      "2           68.832021    22.218482              50.092194     46.613539   \n",
      "3           69.297008    24.652878              44.311238     44.644130   \n",
      "4           49.712859     9.652075              28.317406     40.060784   \n",
      "..                ...          ...                    ...           ...   \n",
      "305         47.903565    13.616688              36.000000     34.286877   \n",
      "306         53.936748    20.721496              29.220534     33.215251   \n",
      "307         61.446597    22.694968              46.170347     38.751628   \n",
      "308         45.252792     8.693157              41.583126     36.559635   \n",
      "309         33.841641     5.073991              36.641233     28.767649   \n",
      "\n",
      "     pelvic_radius  degree_spondylolisthesis  \n",
      "0        98.672917                 -0.254400  \n",
      "1       114.405425                  4.564259  \n",
      "2       105.985135                 -3.530317  \n",
      "3       101.868495                 11.211523  \n",
      "4       108.168725                  7.918501  \n",
      "..             ...                       ...  \n",
      "305     117.449062                 -4.245395  \n",
      "306     114.365845                 -0.421010  \n",
      "307     125.670725                 -2.707880  \n",
      "308     118.545842                  0.214750  \n",
      "309     123.945244                 -0.199249  \n",
      "\n",
      "[310 rows x 6 columns]\n"
     ]
    }
   ],
   "source": [
    "import warnings\n",
    "import numpy as np\n",
    "import pandas as pd\n",
    "from scipy.io.arff import loadarff\n",
    "from sklearn.model_selection import StratifiedKFold\n",
    "from sklearn.preprocessing import MinMaxScaler\n",
    "\n",
    "def warn(*args, **kwargs): pass\n",
    "warnings.warn = warn\n",
    "\n",
    "data = loadarff('column_diagnosis.arff')\n",
    "df = pd.DataFrame(data[0])\n",
    "df['class'] = df['class'].str.decode('utf-8')\n",
    "y = df['class']\n",
    "df = df.drop('class', axis=1)\n",
    "print(df)\n",
    "\n",
    "# normalize\n",
    "scaler = MinMaxScaler()\n",
    "scaler.fit(df)\n",
    "df = scaler.transform(df)"
   ]
  },
  {
   "cell_type": "code",
   "execution_count": 2,
   "metadata": {},
   "outputs": [
    {
     "name": "stdout",
     "output_type": "stream",
     "text": [
      "Silhouette (2-means): 0.36081773371884557\n",
      "Purity (2-means): 0.6290322580645161\n",
      "Silhouette (3-means): 0.29579055730002257\n",
      "Purity (3-means): 0.667741935483871\n",
      "Silhouette (4-means): 0.2686566721650703\n",
      "Purity (4-means): 0.6612903225806451\n",
      "Silhouette (5-means): 0.24328260038805272\n",
      "Purity (5-means): 0.6741935483870968\n"
     ]
    }
   ],
   "source": [
    "from sklearn import datasets, metrics, cluster, mixture\n",
    "\n",
    "def purity_score(y_true, y_pred):\n",
    "    # compute contingency/confusion matrix\n",
    "    confusion_matrix = metrics.cluster.contingency_matrix(y_true, y_pred)\n",
    "    return np.sum(np.amax(confusion_matrix, axis=0)) / np.sum(confusion_matrix) \n",
    "\n",
    "for i in range(2,6):\n",
    "    # parameterize clustering\n",
    "    kmeans_algo = cluster.KMeans(n_clusters=i, random_state=0)\n",
    "\n",
    "    # learn the model\n",
    "    kmeans_model = kmeans_algo.fit(df)\n",
    "\n",
    "    # return centroids\n",
    "    y_pred = kmeans_model.labels_\n",
    "    print(\"Silhouette (\" + str(i) + \"-means):\",metrics.silhouette_score(df, y_pred, metric='euclidean'))\n",
    "    print(\"Purity (\" + str(i) + \"-means):\",purity_score(y, y_pred))"
   ]
  },
  {
   "cell_type": "code",
   "execution_count": null,
   "metadata": {},
   "outputs": [],
   "source": []
  }
 ],
 "metadata": {
  "kernelspec": {
   "display_name": "ml",
   "language": "python",
   "name": "python3"
  },
  "language_info": {
   "codemirror_mode": {
    "name": "ipython",
    "version": 3
   },
   "file_extension": ".py",
   "mimetype": "text/x-python",
   "name": "python",
   "nbconvert_exporter": "python",
   "pygments_lexer": "ipython3",
   "version": "3.11.5"
  }
 },
 "nbformat": 4,
 "nbformat_minor": 2
}
