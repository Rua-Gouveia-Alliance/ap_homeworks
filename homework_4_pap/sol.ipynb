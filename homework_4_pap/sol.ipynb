{
 "cells": [
  {
   "cell_type": "markdown",
   "metadata": {},
   "source": [
    "# 1"
   ]
  },
  {
   "cell_type": "code",
   "execution_count": 2,
   "metadata": {},
   "outputs": [
    {
     "name": "stdout",
     "output_type": "stream",
     "text": [
      "x1 c1: 0.06657529920303393\n",
      "x2 c1: 0.05004888824270901\n",
      "x3 c1: 0.06837452355368487\n",
      "x4 c1: 0.059046993443730274\n"
     ]
    }
   ],
   "source": [
    "import scipy as sp\n",
    "import numpy as np\n",
    "\n",
    "x_1 = np.array([0.6, 0.1])\n",
    "x_2 = np.array([-0.4, 0.8])\n",
    "x_3 = np.array([0.2, 0.5])\n",
    "x_4 = np.array([0.4, -0.1])\n",
    "\n",
    "mean_1 = np.array([1, 1])\n",
    "cov_1 = np.array([[2, 0.5], [0.5, 2]])\n",
    "dist_1 = sp.stats.multivariate_normal(mean_1, cov_1)\n",
    "x1_c1 = dist_1.pdf(x_1)\n",
    "x2_c1 = dist_1.pdf(x_2)\n",
    "x3_c1 = dist_1.pdf(x_3)\n",
    "x4_c1 = dist_1.pdf(x_4)\n",
    "print(\"x1 c1:\", x1_c1)\n",
    "print(\"x2 c1:\", x2_c1)\n",
    "print(\"x3 c1:\", x3_c1)\n",
    "print(\"x4 c1:\", x4_c1)"
   ]
  },
  {
   "cell_type": "code",
   "execution_count": 3,
   "metadata": {},
   "outputs": [
    {
     "name": "stdout",
     "output_type": "stream",
     "text": [
      "x1 c2:  0.11961837142058572\n",
      "x2 c2:  0.0681905803254947\n",
      "x3 c2:  0.12958103481626038\n",
      "x4 c2:  0.12450008976589248\n"
     ]
    }
   ],
   "source": [
    "mean_2 = np.array([0, 0])\n",
    "cov_2 = np.array([[1.5, 1], [1, 1.5]])\n",
    "dist_2 = sp.stats.multivariate_normal(mean_2, cov_2)\n",
    "x1_c2 = dist_2.pdf(x_1)\n",
    "x2_c2 = dist_2.pdf(x_2)\n",
    "x3_c2 = dist_2.pdf(x_3)\n",
    "x4_c2 = dist_2.pdf(x_4)\n",
    "print(\"x1 c2: \", x1_c2)\n",
    "print(\"x2 c2: \", x2_c2)\n",
    "print(\"x3 c2: \", x3_c2)\n",
    "print(\"x4 c2: \", x4_c2)"
   ]
  },
  {
   "cell_type": "code",
   "execution_count": 4,
   "metadata": {},
   "outputs": [
    {
     "name": "stdout",
     "output_type": "stream",
     "text": [
      "0.1925895872206616\n",
      "0.8074104127793383\n"
     ]
    }
   ],
   "source": [
    "l_x1_c1 = 0.3*x1_c1\n",
    "j_x1_c1 = 0.5*l_x1_c1\n",
    "l_x1_c2 = 0.7*x1_c2\n",
    "j_x1_c2 = 0.5*l_x1_c2\n",
    "\n",
    "sum_j = j_x1_c1 + j_x1_c2\n",
    "n_x1_c1 = j_x1_c1/sum_j\n",
    "n_x1_c2 = j_x1_c2/sum_j\n",
    "print(n_x1_c1)\n",
    "print(n_x1_c2)"
   ]
  },
  {
   "cell_type": "code",
   "execution_count": 5,
   "metadata": {},
   "outputs": [
    {
     "name": "stdout",
     "output_type": "stream",
     "text": [
      "0.6313451161603738\n",
      "0.36865488383962614\n"
     ]
    }
   ],
   "source": [
    "l_x2_c1 = 0.7*x2_c1\n",
    "j_x2_c1 = 0.5*l_x2_c1\n",
    "l_x2_c2 = 0.3*x2_c2\n",
    "j_x2_c2 = 0.5*l_x2_c2\n",
    "\n",
    "sum_j = j_x2_c1 + j_x2_c2\n",
    "n_x2_c1 = j_x2_c1/sum_j\n",
    "n_x2_c2 = j_x2_c2/sum_j\n",
    "print(n_x2_c1)\n",
    "print(n_x2_c2)"
   ]
  },
  {
   "cell_type": "code",
   "execution_count": 6,
   "metadata": {},
   "outputs": [
    {
     "name": "stdout",
     "output_type": "stream",
     "text": [
      "0.5518112814848373\n",
      "0.4481887185151628\n"
     ]
    }
   ],
   "source": [
    "l_x3_c1 = 0.7*x3_c1\n",
    "j_x3_c1 = 0.5*l_x3_c1\n",
    "l_x3_c2 = 0.3*x3_c2\n",
    "j_x3_c2 = 0.5*l_x3_c2\n",
    "\n",
    "sum_j = j_x3_c1 + j_x3_c2\n",
    "n_x3_c1 = j_x3_c1/sum_j\n",
    "n_x3_c2 = j_x3_c2/sum_j\n",
    "print(n_x3_c1)\n",
    "print(n_x3_c2)"
   ]
  },
  {
   "cell_type": "code",
   "execution_count": 7,
   "metadata": {},
   "outputs": [
    {
     "name": "stdout",
     "output_type": "stream",
     "text": [
      "0.16892423384960822\n",
      "0.8310757661503917\n"
     ]
    }
   ],
   "source": [
    "l_x4_c1 = 0.3*x4_c1\n",
    "j_x4_c1 = 0.5*l_x4_c1\n",
    "l_x4_c2 = 0.7*x4_c2\n",
    "j_x4_c2 = 0.5*l_x4_c2\n",
    "\n",
    "sum_j = j_x4_c1 + j_x4_c2\n",
    "n_x4_c1 = j_x4_c1/sum_j\n",
    "n_x4_c2 = j_x4_c2/sum_j\n",
    "print(n_x4_c1)\n",
    "print(n_x4_c2)"
   ]
  },
  {
   "cell_type": "code",
   "execution_count": 8,
   "metadata": {},
   "outputs": [
    {
     "name": "stdout",
     "output_type": "stream",
     "text": [
      "[0.026509   0.50712978]\n",
      "[[ 0.14136501 -0.10540546]\n",
      " [-0.10540546  0.0960526 ]]\n"
     ]
    }
   ],
   "source": [
    "den = (n_x1_c1 + n_x2_c1 + n_x3_c1 + n_x4_c1)\n",
    "new_mean_1 = (n_x1_c1*x_1 + n_x2_c1*x_2 + n_x3_c1*x_3 + n_x4_c1*x_4)/den\n",
    "\n",
    "def aux_x1(x,y):\n",
    "    return n_x1_c1*(x_1[x] - new_mean_1[x])*(x_1[y] - new_mean_1[y])\n",
    "    \n",
    "def aux_x2(x,y):\n",
    "    return n_x2_c1*(x_2[x] - new_mean_1[x])*(x_2[y] - new_mean_1[y])\n",
    "\n",
    "def aux_x3(x,y):\n",
    "    return n_x3_c1*(x_3[x] - new_mean_1[x])*(x_3[y] - new_mean_1[y])\n",
    "    \n",
    "def aux_x4(x,y):\n",
    "    return n_x4_c1*(x_4[x] - new_mean_1[x])*(x_4[y] - new_mean_1[y])\n",
    "\n",
    "new_cov_1 = np.array([[0.0,0.0],[0.0,0.0]])\n",
    "for x in range(2):\n",
    "    for y in range(2):\n",
    "        new_cov_1[x,y] = (aux_x1(x,y) + aux_x2(x,y) + aux_x3(x,y) + aux_x4(x,y))/den\n",
    "print(new_mean_1)\n",
    "print(new_cov_1)"
   ]
  },
  {
   "cell_type": "code",
   "execution_count": 9,
   "metadata": {},
   "outputs": [
    {
     "name": "stdout",
     "output_type": "stream",
     "text": [
      "[0.30914476 0.2104205 ]\n",
      "[[ 0.10829305 -0.08865175]\n",
      " [-0.08865175  0.1041233 ]]\n"
     ]
    }
   ],
   "source": [
    "den = (n_x1_c2 + n_x2_c2 + n_x3_c2 + n_x4_c2)\n",
    "new_mean_2 = (n_x1_c2*x_1 + n_x2_c2*x_2 + n_x3_c2*x_3 + n_x4_c2*x_4)/den\n",
    "\n",
    "def aux_x1(x,y):\n",
    "    return n_x1_c2*(x_1[x] - new_mean_2[x])*(x_1[y] - new_mean_2[y])\n",
    "    \n",
    "def aux_x2(x,y):\n",
    "    return n_x2_c2*(x_2[x] - new_mean_2[x])*(x_2[y] - new_mean_2[y])\n",
    "\n",
    "def aux_x3(x,y):\n",
    "    return n_x3_c2*(x_3[x] - new_mean_2[x])*(x_3[y] - new_mean_2[y])\n",
    "    \n",
    "def aux_x4(x,y):\n",
    "    return n_x4_c2*(x_4[x] - new_mean_2[x])*(x_4[y] - new_mean_2[y])\n",
    "\n",
    "new_cov_2 = np.array([[0.0,0.0],[0.0,0.0]])\n",
    "for x in range(2):\n",
    "    for y in range(2):\n",
    "        new_cov_2[x,y] = (aux_x1(x,y) + aux_x2(x,y) + aux_x3(x,y) + aux_x4(x,y))/den\n",
    "print(new_mean_2)\n",
    "print(new_cov_2)\n"
   ]
  },
  {
   "cell_type": "code",
   "execution_count": 10,
   "metadata": {},
   "outputs": [
    {
     "name": "stdout",
     "output_type": "stream",
     "text": [
      "0.38616755467887026\n",
      "0.6138324453211298\n"
     ]
    }
   ],
   "source": [
    "den_1 = n_x1_c1 + n_x2_c1 + n_x3_c1 + n_x4_c1\n",
    "den_2 = n_x1_c2 + n_x2_c2 + n_x3_c2 + n_x4_c2\n",
    "new_pi1 = den_1/(den_1+den_2)\n",
    "new_pi2 = den_2/(den_1+den_2)\n",
    "print(new_pi1)\n",
    "print(new_pi2)"
   ]
  },
  {
   "cell_type": "code",
   "execution_count": 11,
   "metadata": {},
   "outputs": [
    {
     "name": "stdout",
     "output_type": "stream",
     "text": [
      "0.23403948408541084\n",
      "0.6673181710330363\n"
     ]
    }
   ],
   "source": [
    "den_c1 = n_x1_c1 + n_x2_c1 + n_x3_c1 + n_x4_c1\n",
    "den_c1_y = n_x1_c1*1 + n_x2_c1*0 + n_x3_c1*0 + n_x4_c1*1\n",
    "den_c2 = n_x1_c2 + n_x2_c2 + n_x3_c2 + n_x4_c2\n",
    "den_c2_y = n_x1_c2*1 + n_x2_c2*0 + n_x3_c2*0 + n_x4_c2*1\n",
    "new_y_c1 = den_c1_y/den_c1\n",
    "new_y_c2 = den_c2_y/den_2\n",
    "print(new_y_c1)\n",
    "print(new_y_c2)"
   ]
  },
  {
   "cell_type": "markdown",
   "metadata": {},
   "source": [
    "# 2"
   ]
  },
  {
   "cell_type": "code",
   "execution_count": 12,
   "metadata": {},
   "outputs": [
    {
     "name": "stdout",
     "output_type": "stream",
     "text": [
      "x5_c3: 0.027075573673303183\n",
      "x5_c4: 0.06843088109574731\n",
      "likelihood x5_c3: 0.006336753293816409\n",
      "joint x5_c3: 0.0024470485240763594\n",
      "likelihood x5_c4: 0.045665170414993274\n",
      "joint x5_c4: 0.028030763221841434\n",
      "0.08028950846197538\n",
      "0.9197104915380246\n"
     ]
    }
   ],
   "source": [
    "x_5 = np.array([0.3, 0.7])\n",
    "dist_3 = sp.stats.multivariate_normal(new_mean_1, new_cov_1)\n",
    "dist_4 = sp.stats.multivariate_normal(new_mean_2, new_cov_2)\n",
    "x5_c3 = dist_3.pdf(x_5)\n",
    "print(\"x5_c3:\", x5_c3)\n",
    "x5_c4 = dist_4.pdf(x_5)\n",
    "print(\"x5_c4:\", x5_c4)\n",
    "\n",
    "l_x5_c3 = new_y_c1*x5_c3\n",
    "print(\"likelihood x5_c3:\", l_x5_c3)\n",
    "j_x5_c3 = new_pi1*l_x5_c3\n",
    "print(\"joint x5_c3:\", j_x5_c3)\n",
    "l_x5_c4 = new_y_c2*x5_c4\n",
    "print(\"likelihood x5_c4:\", l_x5_c4)\n",
    "j_x5_c4 = new_pi2*l_x5_c4\n",
    "print(\"joint x5_c4:\", j_x5_c4)\n",
    "\n",
    "sum_j = j_x5_c3 + j_x5_c4\n",
    "n_x5_c3 = j_x5_c3/sum_j\n",
    "n_x5_c4 = j_x5_c4/sum_j\n",
    "print(n_x5_c3)\n",
    "print(n_x5_c4)"
   ]
  },
  {
   "cell_type": "markdown",
   "metadata": {},
   "source": [
    "# 3"
   ]
  },
  {
   "cell_type": "code",
   "execution_count": 13,
   "metadata": {},
   "outputs": [
    {
     "name": "stdout",
     "output_type": "stream",
     "text": [
      "x1_c3: 0.989039685256565\n",
      "x1_c4: 1.4229232234739253\n",
      "likelihood x1_c3: 0.2314743376774436\n",
      "likelihood x1_c4: 0.9495425230090522\n",
      "0.19599579428772365\n",
      "0.8040042057122764\n"
     ]
    }
   ],
   "source": [
    "x1_c3 = dist_3.pdf(x_1)\n",
    "print(\"x1_c3:\", x1_c3)\n",
    "x1_c4 = dist_4.pdf(x_1)\n",
    "print(\"x1_c4:\", x1_c4)\n",
    "\n",
    "l_x1_c3 = new_y_c1*x1_c3\n",
    "print(\"likelihood x1_c3:\", l_x1_c3)\n",
    "l_x1_c4 = new_y_c2*x1_c4\n",
    "print(\"likelihood x1_c4:\", l_x1_c4)\n",
    "\n",
    "sum_l = l_x1_c3 + l_x1_c4\n",
    "n_x1_c3 = l_x1_c3/sum_l\n",
    "n_x1_c4 = l_x1_c4/sum_l\n",
    "print(n_x1_c3)\n",
    "print(n_x1_c4)"
   ]
  },
  {
   "cell_type": "code",
   "execution_count": 14,
   "metadata": {},
   "outputs": [
    {
     "name": "stdout",
     "output_type": "stream",
     "text": [
      "x2_c3: 1.6532607843539529\n",
      "x2_c4: 0.2667314939118185\n",
      "likelihood x2_c3: 1.266332483325112\n",
      "likelihood x2_c4: 0.08873672123767433\n",
      "0.9345149893902981\n",
      "0.06548501060970187\n"
     ]
    }
   ],
   "source": [
    "x2_c3 = dist_3.pdf(x_2)\n",
    "print(\"x2_c3:\", x2_c3)\n",
    "x2_c4 = dist_4.pdf(x_2)\n",
    "print(\"x2_c4:\", x2_c4)\n",
    "\n",
    "l_x2_c3 = (1 - new_y_c1)*x2_c3\n",
    "print(\"likelihood x2_c3:\", l_x2_c3)\n",
    "l_x2_c4 = (1 - new_y_c2)*x2_c4\n",
    "print(\"likelihood x2_c4:\", l_x2_c4)\n",
    "\n",
    "sum_l = l_x2_c3 + l_x2_c4\n",
    "n_x2_c3 = l_x2_c3/sum_l\n",
    "n_x2_c4 = l_x2_c4/sum_l\n",
    "print(n_x2_c3)\n",
    "print(n_x2_c4)"
   ]
  },
  {
   "cell_type": "code",
   "execution_count": 15,
   "metadata": {},
   "outputs": [
    {
     "name": "stdout",
     "output_type": "stream",
     "text": [
      "x3_c3: 1.87752550394683\n",
      "x3_c4: 1.3651917770720163\n",
      "likelihood x3_c3: 1.438110403645913\n",
      "likelihood x3_c4: 0.45417449728697784\n",
      "0.7599861960199169\n",
      "0.2400138039800831\n"
     ]
    }
   ],
   "source": [
    "x3_c3 = dist_3.pdf(x_3)\n",
    "print(\"x3_c3:\", x3_c3)\n",
    "x3_c4 = dist_4.pdf(x_3)\n",
    "print(\"x3_c4:\", x3_c4)\n",
    "\n",
    "l_x3_c3 = (1 - new_y_c1)*x3_c3\n",
    "print(\"likelihood x3_c3:\", l_x3_c3)\n",
    "l_x3_c4 = (1 - new_y_c2)*x3_c4\n",
    "print(\"likelihood x3_c4:\", l_x3_c4)\n",
    "\n",
    "sum_l = l_x3_c3 + l_x3_c4\n",
    "n_x3_c3 = l_x3_c3/sum_l\n",
    "n_x3_c4 = l_x3_c4/sum_l\n",
    "print(n_x3_c3)\n",
    "print(n_x3_c4)"
   ]
  },
  {
   "cell_type": "code",
   "execution_count": 16,
   "metadata": {},
   "outputs": [
    {
     "name": "stdout",
     "output_type": "stream",
     "text": [
      "x4_c3: 0.08872531152618472\n",
      "x4_c4: 1.0839087162923442\n",
      "likelihood x4_c3: 0.02076522613490563\n",
      "likelihood x4_c4: 0.7233119821229733\n",
      "0.027907354108485084\n",
      "0.9720926458915149\n"
     ]
    }
   ],
   "source": [
    "x4_c3 = dist_3.pdf(x_4)\n",
    "print(\"x4_c3:\", x4_c3)\n",
    "x4_c4 = dist_4.pdf(x_4)\n",
    "print(\"x4_c4:\", x4_c4)\n",
    "\n",
    "l_x4_c3 = new_y_c1*x4_c3\n",
    "print(\"likelihood x4_c3:\", l_x4_c3)\n",
    "l_x4_c4 = new_y_c2*x4_c4\n",
    "print(\"likelihood x4_c4:\", l_x4_c4)\n",
    "\n",
    "sum_l = l_x4_c3 + l_x4_c4\n",
    "n_x4_c3 = l_x4_c3/sum_l\n",
    "n_x4_c4 = l_x4_c4/sum_l\n",
    "print(n_x4_c3)\n",
    "print(n_x4_c4)"
   ]
  },
  {
   "cell_type": "code",
   "execution_count": 22,
   "metadata": {},
   "outputs": [
    {
     "name": "stdout",
     "output_type": "stream",
     "text": [
      "d(1,2): 2.7\n",
      "d(1,3): 1.7999999999999998\n",
      "d(1,4): 0.39999999999999997\n",
      "d(2,3): 0.9000000000000001\n",
      "d(2,4): 2.7\n",
      "d(3,4): 1.7999999999999998\n"
     ]
    }
   ],
   "source": [
    "# Manhattan distances\n",
    "x1 = np.append(np.array([1]), x_1, axis=0)\n",
    "x2 = np.append(np.array([0]), x_2, axis=0)\n",
    "x3 = np.append(np.array([0]), x_3, axis=0)\n",
    "x4 = np.append(np.array([1]), x_4, axis=0)\n",
    "\n",
    "d_x1_x2 = np.sum(abs(x1 - x2))\n",
    "d_x1_x3 = np.sum(abs(x1 - x3))\n",
    "d_x1_x4 = np.sum(abs(x1 - x4))\n",
    "d_x2_x3 = np.sum(abs(x2 - x3))\n",
    "d_x2_x4 = np.sum(abs(x2 - x4))\n",
    "d_x3_x4 = np.sum(abs(x3 - x4))\n",
    "\n",
    "print(\"d(1,2):\", d_x1_x2)\n",
    "print(\"d(1,3):\", d_x1_x3)\n",
    "print(\"d(1,4):\", d_x1_x4)\n",
    "print(\"d(2,3):\", d_x2_x3)\n",
    "print(\"d(2,4):\", d_x2_x4)\n",
    "print(\"d(3,4):\", d_x3_x4)"
   ]
  },
  {
   "cell_type": "markdown",
   "metadata": {},
   "source": [
    "# 4"
   ]
  },
  {
   "cell_type": "code",
   "execution_count": null,
   "metadata": {},
   "outputs": [],
   "source": []
  }
 ],
 "metadata": {
  "kernelspec": {
   "display_name": "ml",
   "language": "python",
   "name": "python3"
  },
  "language_info": {
   "codemirror_mode": {
    "name": "ipython",
    "version": 3
   },
   "file_extension": ".py",
   "mimetype": "text/x-python",
   "name": "python",
   "nbconvert_exporter": "python",
   "pygments_lexer": "ipython3",
   "version": "3.11.5"
  }
 },
 "nbformat": 4,
 "nbformat_minor": 2
}
