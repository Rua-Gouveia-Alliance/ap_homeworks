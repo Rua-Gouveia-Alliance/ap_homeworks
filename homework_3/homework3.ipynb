{
 "cells": [
  {
   "cell_type": "markdown",
   "metadata": {},
   "source": [
    "# Homework 3"
   ]
  },
  {
   "cell_type": "markdown",
   "metadata": {},
   "source": [
    "### Setup"
   ]
  },
  {
   "cell_type": "code",
   "execution_count": 2,
   "metadata": {},
   "outputs": [],
   "source": [
    "import warnings\n",
    "import pandas as pd\n",
    "from sklearn.model_selection import train_test_split\n",
    "\n",
    "def warn(*args, **kwargs): pass\n",
    "warnings.warn = warn\n",
    "\n",
    "df = pd.read_csv('winequality-red.csv', sep=\";\")\n",
    "\n",
    "X = df.drop(\"quality\", axis=1)\n",
    "y = df[\"quality\"]\n",
    "\n",
    "x_train, x_test, y_train, y_test = train_test_split(X, y, test_size = 0.2, random_state=0)\n"
   ]
  },
  {
   "cell_type": "markdown",
   "metadata": {},
   "source": [
    "### 1."
   ]
  },
  {
   "cell_type": "code",
   "execution_count": 3,
   "metadata": {},
   "outputs": [
    {
     "data": {
      "image/png": "[encoded data removed]",
      "text/plain": [
       "<Figure size 800x600 with 1 Axes>"
      ]
     },
     "metadata": {},
     "output_type": "display_data"
    }
   ],
   "source": [
    "import numpy as np\n",
    "import seaborn as sns\n",
    "import matplotlib.pyplot as plt\n",
    "from sklearn.neural_network import MLPRegressor\n",
    "\n",
    "residues = []\n",
    "for i in range(1, 11):\n",
    "    regressor = MLPRegressor(hidden_layer_sizes=(10,10), activation='relu', early_stopping=True, validation_fraction=0.2, random_state=i)\n",
    "    regressor.fit(x_train, y_train)\n",
    "    prediction = regressor.predict(x_test)\n",
    "    residues += list(abs(prediction - np.array(y_test)))\n",
    "\n",
    "plt.figure(figsize=(8, 6))\n",
    "sns.histplot(residues)\n",
    "plt.show()\n"
   ]
  },
  {
   "cell_type": "markdown",
   "metadata": {},
   "source": [
    "### 2."
   ]
  },
  {
   "cell_type": "code",
   "execution_count": 4,
   "metadata": {},
   "outputs": [
    {
     "name": "stdout",
     "output_type": "stream",
     "text": [
      "Original MAE (without round and bound): 0.5097\n",
      "Round and bound MAE: 0.4388\n"
     ]
    }
   ],
   "source": [
    "from sklearn import metrics\n",
    "\n",
    "round_bound = lambda x : 10 if x > 10 else round(x) if x > 0 else 0\n",
    "\n",
    "original_mae = 0\n",
    "rb_mae = 0\n",
    "\n",
    "for i in range(1, 11):\n",
    "    regressor = MLPRegressor(hidden_layer_sizes=(10,10), activation='relu', early_stopping=True, validation_fraction=0.2, random_state=i)\n",
    "    regressor.fit(x_train, y_train)\n",
    "    prediction = regressor.predict(x_test)\n",
    "\n",
    "    original_mae += metrics.mean_absolute_error(y_test, prediction)\n",
    "    rb_prediction = list(map(round_bound, prediction))\n",
    "    rb_mae += metrics.mean_absolute_error(y_test, rb_prediction)\n",
    "\n",
    "original_mae /= 10\n",
    "rb_mae /= 10\n",
    "\n",
    "print(\"Original MAE (without round and bound):\", round(original_mae, 4))\n",
    "print(\"Round and bound MAE:\", round(rb_mae, 4))"
   ]
  },
  {
   "cell_type": "markdown",
   "metadata": {},
   "source": [
    "### 3."
   ]
  },
  {
   "cell_type": "code",
   "execution_count": 5,
   "metadata": {},
   "outputs": [
    {
     "name": "stdout",
     "output_type": "stream",
     "text": [
      "Original RMSE: 0.6706527958221328\n",
      "20 iterations RMSE: 1.403978950992544\n",
      "50 iterations RMSE: 0.7996073631460567\n",
      "100 iterations RMSE: 0.6940361469112146\n",
      "200 iterations RMSE: 0.6554543932216473\n"
     ]
    }
   ],
   "source": [
    "from math import ceil\n",
    "max_iters = [20, 50, 100, 200]\n",
    "\n",
    "original_rmse = 0\n",
    "es_rmse = np.zeros(len(max_iters))\n",
    "\n",
    "for i in range(1, 11):\n",
    "    regressor = MLPRegressor(hidden_layer_sizes=(10,10), activation='relu', early_stopping=True, validation_fraction=0.2, random_state=i)\n",
    "    regressor.fit(x_train, y_train)\n",
    "    prediction = regressor.predict(x_test)\n",
    "    original_rmse += metrics.mean_squared_error(y_test, prediction)**0.5\n",
    "\n",
    "for index, max_iter in enumerate(max_iters):\n",
    "    for i in range(1, 11):\n",
    "        regressor = MLPRegressor(hidden_layer_sizes=(10,10), activation='relu', validation_fraction=0.2, random_state=i, max_iter=max_iter)\n",
    "        regressor.fit(x_train, y_train)\n",
    "        prediction = regressor.predict(x_test)\n",
    "        es_rmse[index] += metrics.mean_squared_error(y_test, prediction)**0.5\n",
    "\n",
    "\n",
    "original_rmse /= 10\n",
    "es_rmse /= 10\n",
    "\n",
    "print(f\"Original RMSE: {original_rmse}\")\n",
    "for i, max_iter in enumerate(max_iters):\n",
    "    print(f\"{max_iter} iterations RMSE: {es_rmse[i]}\")\n"
   ]
  },
  {
   "cell_type": "markdown",
   "metadata": {},
   "source": [
    "### 4."
   ]
  },
  {
   "cell_type": "markdown",
   "metadata": {},
   "source": [
    "O regressor com melhor performance é o que tem 200 iterações. Se olharmos para os modelos de iterações fixas, verificamos que a sua performance melhora quando aumentamos o número de iterações máximas, o que denuncia a possibilidade de existir algum underfitting nos modelos com iterações máximas mais baixas. Relativamente aos modelos com early stop, estes apresentam uma performance pior possivelmente por detetarem prematuramente o início do overfitting e terminarem a aprendizagem cedo demais, não tendo a oportunidade de convergir para valores ótimos."
   ]
  }
 ],
 "metadata": {
  "kernelspec": {
   "display_name": "Python 3",
   "language": "python",
   "name": "python3"
  },
  "language_info": {
   "codemirror_mode": {
    "name": "ipython",
    "version": 3
   },
   "file_extension": ".py",
   "mimetype": "text/x-python",
   "name": "python",
   "nbconvert_exporter": "python",
   "pygments_lexer": "ipython3",
   "version": "3.11.5"
  },
  "orig_nbformat": 4
 },
 "nbformat": 4,
 "nbformat_minor": 2
}
